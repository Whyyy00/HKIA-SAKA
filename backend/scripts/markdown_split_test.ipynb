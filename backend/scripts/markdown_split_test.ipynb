{
 "cells": [
  {
   "cell_type": "code",
   "execution_count": null,
   "id": "ee7a232c",
   "metadata": {},
   "outputs": [],
   "source": [
    "from langchain.text_splitter import MarkdownHeaderTextSplitter"
   ]
  },
  {
   "cell_type": "code",
   "execution_count": null,
   "id": "45209929",
   "metadata": {},
   "outputs": [],
   "source": [
    "header_splitter = MarkdownHeaderTextSplitter(\n",
    "    headers_to_split_on=[(\"#\", \"Header1\"),\n",
    "                         (\"##\", \"Header2\")],\n",
    "    strip_headers=False\n",
    ")"
   ]
  },
  {
   "cell_type": "code",
   "execution_count": null,
   "id": "10b825de",
   "metadata": {},
   "outputs": [],
   "source": [
    "with open(\"data/extracted/IAC/cleaned_markdown/IAC Manual v9.md\", \"r\", encoding=\"utf-8\") as f:\n",
    "    content = f.read()"
   ]
  },
  {
   "cell_type": "code",
   "execution_count": null,
   "id": "13ed2c20",
   "metadata": {},
   "outputs": [],
   "source": [
    "splitted_markdown = header_splitter.split_text(content)"
   ]
  },
  {
   "cell_type": "code",
   "execution_count": null,
   "id": "2715afff",
   "metadata": {},
   "outputs": [],
   "source": [
    "for doc in splitted_markdown:\n",
    "    doc.metadata[\"Title\"] = \"IAC Manual v9\"\n",
    "    doc.metadata[\"added_date\"] = \"2024/04/30\""
   ]
  },
  {
   "cell_type": "code",
   "execution_count": null,
   "id": "47f3c9b8",
   "metadata": {},
   "outputs": [],
   "source": [
    "splitted_markdown[0].metadata[\"Header2\"]"
   ]
  },
  {
   "cell_type": "code",
   "execution_count": null,
   "id": "6a075aa4",
   "metadata": {},
   "outputs": [],
   "source": [
    "from langchain_ollama import OllamaEmbeddings\n",
    "embeddings = OllamaEmbeddings(model=\"bge-m3\")"
   ]
  },
  {
   "cell_type": "code",
   "execution_count": null,
   "id": "779b3446",
   "metadata": {},
   "outputs": [],
   "source": [
    "from langchain_chroma import Chroma\n",
    "vector_store = Chroma(\n",
    "    collection_name=\"manuals_collection\",\n",
    "    embedding_function=embeddings,\n",
    "    persist_directory=\"data/chroma_langchain_db\",)"
   ]
  },
  {
   "cell_type": "code",
   "execution_count": null,
   "id": "3a84037b",
   "metadata": {},
   "outputs": [],
   "source": [
    "from uuid import uuid4\n",
    "from langchain_core.documents import Document\n",
    "\n",
    "uuids = [str(uuid4()) for _ in range(len(splitted_markdown))]\n",
    "\n",
    "vector_store.add_documents(documents=splitted_markdown, ids=uuids)"
   ]
  },
  {
   "cell_type": "code",
   "execution_count": null,
   "id": "1c39e279",
   "metadata": {},
   "outputs": [],
   "source": [
    "results = vector_store.similarity_search(\n",
    "    \"What are the rules for using telephones?\",\n",
    "    k=1,\n",
    ")\n",
    "for res in results:\n",
    "    print(f\"id: {res.id}\")"
   ]
  },
  {
   "cell_type": "code",
   "execution_count": null,
   "id": "93b1eb73",
   "metadata": {},
   "outputs": [],
   "source": [
    "import re\n",
    "\n",
    "def extract_sections_with_multiple_images(md_text):\n",
    "    # 提取标题（如 1.2.3）\n",
    "    section_pattern = re.compile(r'^(\\d+(?:\\.\\d+){2,})\\s+.*$', re.MULTILINE)\n",
    "    # 提取图片路径\n",
    "    image_pattern = re.compile(r'!\\[\\]\\((.*?)\\)')\n",
    "\n",
    "    # 提取所有 section 标题及位置\n",
    "    sections = []\n",
    "    for match in section_pattern.finditer(md_text):\n",
    "        sections.append({\n",
    "            \"number\": match.group(1),\n",
    "            \"start\": match.start()\n",
    "        })\n",
    "\n",
    "    # 添加一个虚拟结束位置（文档末尾），方便计算区段范围\n",
    "    sections.append({\n",
    "        \"number\": \"END\",\n",
    "        \"start\": len(md_text)\n",
    "    })\n",
    "\n",
    "    results = []\n",
    "\n",
    "    for i in range(len(sections) - 1):\n",
    "        section_start = sections[i][\"start\"]\n",
    "        section_end = sections[i + 1][\"start\"]\n",
    "        section_number = sections[i][\"number\"]\n",
    "\n",
    "        section_text = md_text[section_start:section_end]\n",
    "        # 找出该段中所有图片\n",
    "        for match in image_pattern.finditer(section_text):\n",
    "            img_pos = match.start()\n",
    "            img_path = match.group(1)\n",
    "            # 截取该图片之前的内容（相对当前段）\n",
    "            content_up_to_image = section_text[:img_pos].strip()\n",
    "            results.append({\n",
    "                \"section_number\": section_number,\n",
    "                \"image_path\": img_path,\n",
    "                \"content\": content_up_to_image\n",
    "            })\n",
    "\n",
    "    return results"
   ]
  },
  {
   "cell_type": "code",
   "execution_count": null,
   "id": "77fb5791",
   "metadata": {},
   "outputs": [],
   "source": [
    "result = [doc for doc in splitted_markdown if doc.metadata.get(\"Header2\") == \"10.2 Fallback procedure for ACC\"]\n",
    "print(result)"
   ]
  },
  {
   "cell_type": "code",
   "execution_count": null,
   "id": "347e54b0",
   "metadata": {},
   "outputs": [],
   "source": [
    "md_content = result[0].page_content\n",
    "\n",
    "results = extract_sections_with_multiple_images(md_content)\n",
    "\n",
    "for item in results:\n",
    "    print(f\"Section {item['section_number']}:\")\n",
    "    print(item['content'])\n",
    "    print(f\"→ Image: {item['image_path']}\")\n",
    "    print('-' * 60)"
   ]
  },
  {
   "cell_type": "code",
   "execution_count": null,
   "id": "3dd6f596",
   "metadata": {},
   "outputs": [],
   "source": [
    "from langchain_ollama import OllamaLLM\n",
    "import base64\n",
    "import os\n",
    "\n",
    "\n",
    "# 加载图片并转为 base64，保持原始格式\n",
    "def encode_image_base64(image_path: str) -> str:\n",
    "    if not os.path.exists(image_path):\n",
    "        raise FileNotFoundError(f\"图片不存在: {image_path}\")\n",
    "    \n",
    "    with open(image_path, \"rb\") as image_file:\n",
    "        return base64.b64encode(image_file.read()).decode('utf-8')\n",
    "\n",
    "\n",
    "llm = OllamaLLM(model=\"llama3.2-vision:11b\")\n",
    "\n",
    "\n",
    "# llm_with_image_context = llm.bind(images=[image_base64])\n",
    "# response = llm_with_image_context.invoke(f\"summarize the image detailly. Images:{image_base64}\")\n",
    "# print(response)\n"
   ]
  },
  {
   "cell_type": "code",
   "execution_count": null,
   "id": "8ffc7d7b",
   "metadata": {},
   "outputs": [],
   "source": [
    "md_content = result[0].page_content\n",
    "\n",
    "results = extract_sections_with_multiple_images(md_content)\n",
    "\n",
    "for item in results:\n",
    "    image_path = os.path.join(\"data/extracted/IAC/images\", os.path.basename(item['image_path']))\n",
    "    image_base64 = encode_image_base64(image_path)\n",
    "    context = item['content']\n",
    "\n",
    "    messages=[\n",
    "        {\n",
    "            'role': 'user',\n",
    "            'content': f'Describe the image in detail. Here are some related infos: {context}',\n",
    "            'images': [image_base64]\n",
    "        }\n",
    "    ]\n",
    "\n",
    "    print(messages)\n",
    "\n",
    "    response = llm.invoke(messages)\n",
    "    print(\"=\"*60)\n",
    "    print(context)\n",
    "    print(response)"
   ]
  },
  {
   "cell_type": "code",
   "execution_count": null,
   "id": "127ad413",
   "metadata": {},
   "outputs": [],
   "source": [
    "import os\n",
    "path = \"../images/5b44925af0e0d7ac75f2ef7343d20b52e4e38a639a33653649891f208b67c9de.jpg\"\n",
    "path2 = os.path.basename(path)\n",
    "print(path2)"
   ]
  },
  {
   "cell_type": "code",
   "execution_count": null,
   "id": "ccaf6ced",
   "metadata": {},
   "outputs": [],
   "source": []
  }
 ],
 "metadata": {
  "kernelspec": {
   "display_name": "hkia_venv",
   "language": "python",
   "name": "python3"
  },
  "language_info": {
   "codemirror_mode": {
    "name": "ipython",
    "version": 3
   },
   "file_extension": ".py",
   "mimetype": "text/x-python",
   "name": "python",
   "nbconvert_exporter": "python",
   "pygments_lexer": "ipython3",
   "version": "3.12.9"
  }
 },
 "nbformat": 4,
 "nbformat_minor": 5
}
