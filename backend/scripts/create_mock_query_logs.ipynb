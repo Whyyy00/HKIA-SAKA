{
 "cells": [
  {
   "cell_type": "code",
   "execution_count": 18,
   "id": "666ee0f9",
   "metadata": {},
   "outputs": [],
   "source": [
    "import json\n",
    "from langchain_core.documents import Document\n",
    "from backend.app.database.log_query import get_query_logger"
   ]
  },
  {
   "cell_type": "code",
   "execution_count": 19,
   "id": "9756247e",
   "metadata": {},
   "outputs": [],
   "source": [
    "with open('/Users/yuyangyang/Documents/Studying/CUHK/9_IS_Practicum/hkia_saka_v2/backend/process_image_20250507_120228.json', 'r', encoding='utf-8') as f:\n",
    "    img_content = json.load(f)\n",
    "    \n",
    "with open('/Users/yuyangyang/Documents/Studying/CUHK/9_IS_Practicum/hkia_saka_v2/backend/process_text_20250507_120228.json', 'r', encoding='utf-8') as f:\n",
    "    text_content = json.load(f)\n",
    "\n",
    "docs1 = img_content + text_content\n",
    "docs = [Document(page_content=item[\"page_content\"], metadata=item[\"metadata\"]) for item in docs1]"
   ]
  },
  {
   "cell_type": "code",
   "execution_count": 21,
   "id": "df940548",
   "metadata": {},
   "outputs": [
    {
     "name": "stdout",
     "output_type": "stream",
     "text": [
      "2025-03-26T02:25:27.429511\n"
     ]
    }
   ],
   "source": [
    "import random\n",
    "from datetime import datetime, timedelta\n",
    "\n",
    "def generate_random_recent_date(days_back=90):\n",
    "    \"\"\"\n",
    "    Generate a random date within the specified number of days from now\n",
    "    \n",
    "    Args:\n",
    "        days_back (int): Maximum number of days in the past\n",
    "        \n",
    "    Returns:\n",
    "        str: ISO formatted date string\n",
    "    \"\"\"\n",
    "    # Get current date and time\n",
    "    now = datetime.now()\n",
    "    \n",
    "    # Generate random days back (from 0 to days_back)\n",
    "    random_days = random.randint(0, days_back)\n",
    "    \n",
    "    # Generate random hours, minutes, seconds and microseconds\n",
    "    random_hour = random.randint(0, 23)\n",
    "    random_minute = random.randint(0, 59)\n",
    "    random_second = random.randint(0, 59)\n",
    "    random_microsecond = random.randint(0, 999999)\n",
    "    \n",
    "    # Calculate random date\n",
    "    random_date = now - timedelta(days=random_days)\n",
    "    \n",
    "    # Set random time components\n",
    "    random_datetime = random_date.replace(\n",
    "        hour=random_hour,\n",
    "        minute=random_minute, \n",
    "        second=random_second,\n",
    "        microsecond=random_microsecond\n",
    "    )\n",
    "    \n",
    "    # Return ISO formatted string\n",
    "    return random_datetime.isoformat()\n",
    "\n",
    "# Example: Generate a single random date\n",
    "random_date = generate_random_recent_date()\n",
    "print(random_date)"
   ]
  },
  {
   "cell_type": "code",
   "execution_count": 17,
   "id": "51173f72",
   "metadata": {},
   "outputs": [],
   "source": [
    "logger = get_query_logger()"
   ]
  },
  {
   "cell_type": "code",
   "execution_count": 26,
   "id": "47a6f359",
   "metadata": {},
   "outputs": [],
   "source": [
    "import sqlite3\n",
    "\n",
    "# Generate 100 random logs spanning the past 90 days\n",
    "for _ in range(200):\n",
    "    # Get random timestamp\n",
    "    timestamp = generate_random_recent_date()\n",
    "    \n",
    "    # Get random docs (select 2-5 random docs from the collection)\n",
    "    num_docs = random.randint(1, 3)\n",
    "    random_docs = random.sample(docs, num_docs)\n",
    "    \n",
    "    # Log to database\n",
    "    logger.log_documents(random_docs)\n",
    "    \n",
    "    # Update the timestamp directly in the database\n",
    "    conn = sqlite3.connect('backend/data/logs/query_logs.db')\n",
    "    cursor = conn.cursor()\n",
    "    # 获取刚刚插入的记录IDs\n",
    "    cursor.execute(\"SELECT id FROM doc_logs ORDER BY id DESC LIMIT ?\", (num_docs,))\n",
    "    recent_ids = [row[0] for row in cursor.fetchall()]\n",
    "    \n",
    "    # 更新每个记录的时间戳\n",
    "    for doc_id in recent_ids:\n",
    "        cursor.execute(\"UPDATE doc_logs SET timestamp = ? WHERE id = ?\", (timestamp, doc_id))\n",
    "    \n",
    "    conn.commit()\n",
    "    conn.close()"
   ]
  },
  {
   "cell_type": "code",
   "execution_count": null,
   "id": "5d6c7781",
   "metadata": {},
   "outputs": [],
   "source": []
  }
 ],
 "metadata": {
  "kernelspec": {
   "display_name": "hkia_venv",
   "language": "python",
   "name": "python3"
  },
  "language_info": {
   "codemirror_mode": {
    "name": "ipython",
    "version": 3
   },
   "file_extension": ".py",
   "mimetype": "text/x-python",
   "name": "python",
   "nbconvert_exporter": "python",
   "pygments_lexer": "ipython3",
   "version": "3.12.9"
  }
 },
 "nbformat": 4,
 "nbformat_minor": 5
}
